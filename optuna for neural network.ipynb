{
 "cells": [
  {
   "cell_type": "code",
   "execution_count": null,
   "id": "90dcd345",
   "metadata": {},
   "outputs": [],
   "source": [
    "import optuna"
   ]
  },
  {
   "cell_type": "code",
   "execution_count": null,
   "id": "b2ce3060",
   "metadata": {},
   "outputs": [],
   "source": [
    "class OptunaTrainer:\n",
    "    def __init__(self, train_loader, val_loader):\n",
    "        self.train_loader = train_loader\n",
    "        self.val_loader = val_loader\n",
    "        \n",
    "    def train_model(self, learning_rate, optimizer):\n",
    "        model = # model instance e.g ResNet(num_classes)\n",
    "        optimizer = optim.Adam(model.parameters(), lr=learning_rate)\n",
    "        criterion = nn.CrossEntropyLoss()\n",
    "        \n",
    "        for epoch in range(NUM_EPOCHS):\n",
    "            for inputs, labels in self.train_loader:\n",
    "                #get data to cuda if possible\n",
    "                inputs = inputs.to(device, dtype = torch.float32)\n",
    "                labels = labels.to(device, dtype = torch.long)\n",
    "                \n",
    "                optimizer.zero_grad()\n",
    "                outputs = model(inputs)\n",
    "                loss = criterion(outputs.squeeze(), labels)\n",
    "                loss.backward()\n",
    "                optimizer.step()\n",
    "                \n",
    "        ## test evaluation\n",
    "        model.eval()\n",
    "        num_correct = 0\n",
    "        total_samples = 0\n",
    "        \n",
    "        with torch.no_grad():\n",
    "            for inputs, labels in self.val_loader:\n",
    "                outputs = model(inputs)\n",
    "                \n",
    "                _, predicted = torch.max(outputs, dim=1)\n",
    "                num_correct += (predicted == labels).sum()\n",
    "                total_samples += labels.size(0)\n",
    "        test_accuracy = num_correct / total_samples\n",
    "        return test_accuracy\n",
    "    \n",
    "    def objective(self, trial):\n",
    "        ## suggest hyperparams\n",
    "        learning_rate = trial.suggest_loguniform(\"learning_rate\", 1e-5, 1e-1)\n",
    "        optimizer = trial.suggest_categorical(\"optimizer\", [\"SGD\", \"Adam\"])\n",
    "        \n",
    "        test_accuracy = self.train_model(learning_rate, optimizer)\n",
    "        return test_accuracy"
   ]
  },
  {
   "cell_type": "code",
   "execution_count": null,
   "id": "ea9acd34",
   "metadata": {},
   "outputs": [],
   "source": [
    "tuner = OptunaTrainer(train_dataloader, val_dataloader)\n",
    "study = optuna.create_study(direction=\"maximize\")\n",
    "study.optimize(tuner.objective, n_trials=5)\n",
    "\n",
    "print(\"number of finished trials:\", len(study.trials))\n",
    "print(\"Best trial:\")\n",
    "\n",
    "trial = study.best_trial\n",
    "print(\" value:  \", trial.value)\n",
    "\n",
    "print(\" params:  \")\n",
    "for key, value in trial.params.items():\n",
    "    print(\"   {}: {}\".format(key, value))"
   ]
  }
 ],
 "metadata": {
  "kernelspec": {
   "display_name": "Python 3 (ipykernel)",
   "language": "python",
   "name": "python3"
  },
  "language_info": {
   "codemirror_mode": {
    "name": "ipython",
    "version": 3
   },
   "file_extension": ".py",
   "mimetype": "text/x-python",
   "name": "python",
   "nbconvert_exporter": "python",
   "pygments_lexer": "ipython3",
   "version": "3.10.9"
  }
 },
 "nbformat": 4,
 "nbformat_minor": 5
}
